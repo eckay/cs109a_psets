{
 "cells": [
  {
   "cell_type": "code",
   "execution_count": 1,
   "metadata": {
    "deletable": false,
    "editable": false
   },
   "outputs": [],
   "source": [
    "# Initialize Otter\n",
    "import otter\n",
    "grader = otter.Notebook(\"cs1090a_hw2.ipynb\")"
   ]
  },
  {
   "cell_type": "markdown",
   "metadata": {},
   "source": [
    "# CS1090A Introduction to Data Science\n",
    "## Homework 2: kNN, Linear/Polynomial Regression, Regularization, and Model Selection\n",
    "\n",
    "**Harvard University**<br/>\n",
    "**Fall 2025**<br/>\n",
    "**Instructors**: Pavlos Protopapas, Kevin Rader, and Chris Gumb\n",
    "\n",
    "<hr style=\"height:2.4pt\">"
   ]
  },
  {
   "cell_type": "code",
   "execution_count": 2,
   "metadata": {
    "jupyter": {
     "source_hidden": true
    },
    "source_hidden": true
   },
   "outputs": [
    {
     "data": {
      "text/html": [
       "\n",
       "<style>\n",
       "    h2, h3, h4 {\n",
       "        color: black;\n",
       "        border: 1px solid #e0e0e0;\n",
       "        border-radius: 5px;\n",
       "        padding: 10px 15px;\n",
       "        margin-top: 20px;\n",
       "        margin-bottom: 10px;\n",
       "        font-weight: bold;\n",
       "    }\n",
       "    h2 { background-color: #C8A2C8; } /* Lilac */\n",
       "    h3 { background-color: #D8BFD8; } /* Thistle */\n",
       "    h4 { background-color: #E6E6FA; } /* Lavender */\n",
       "</style>\n"
      ],
      "text/plain": [
       "<IPython.core.display.HTML object>"
      ]
     },
     "execution_count": 2,
     "metadata": {},
     "output_type": "execute_result"
    }
   ],
   "source": [
    "# RUN THIS CELL \n",
    "from IPython.core.display import HTML\n",
    "\n",
    "# Define custom CSS for the notebook\n",
    "styles = \"\"\"\n",
    "<style>\n",
    "    h2, h3, h4 {\n",
    "        color: black;\n",
    "        border: 1px solid #e0e0e0;\n",
    "        border-radius: 5px;\n",
    "        padding: 10px 15px;\n",
    "        margin-top: 20px;\n",
    "        margin-bottom: 10px;\n",
    "        font-weight: bold;\n",
    "    }\n",
    "    h2 { background-color: #C8A2C8; } /* Lilac */\n",
    "    h3 { background-color: #D8BFD8; } /* Thistle */\n",
    "    h4 { background-color: #E6E6FA; } /* Lavender */\n",
    "</style>\n",
    "\"\"\"\n",
    "HTML(styles)"
   ]
  },
  {
   "cell_type": "markdown",
   "metadata": {},
   "source": [
    "### Import Libraries"
   ]
  },
  {
   "cell_type": "code",
   "execution_count": 3,
   "metadata": {
    "cell_id": "c0d45bbc-accf-40bf-9819-f21abadc79a6",
    "colab": {
     "base_uri": "https://localhost:8080/",
     "height": 71
    },
    "colab_type": "code",
    "id": "Gj0IyRyyID1e",
    "outputId": "252f49e5-6651-4bd7-e138-ff8f67d1e551"
   },
   "outputs": [],
   "source": [
    "import matplotlib\n",
    "import matplotlib.pyplot as plt\n",
    "import numpy as np\n",
    "import pandas as pd\n",
    "import seaborn as sns\n",
    "from sklearn.linear_model import LinearRegression\n",
    "from sklearn.metrics import mean_squared_error\n",
    "from sklearn.metrics import r2_score\n",
    "from sklearn.model_selection import train_test_split\n",
    "from sklearn.neighbors import KNeighborsRegressor\n",
    "from sklearn.model_selection import cross_validate\n",
    "from sklearn.preprocessing import PolynomialFeatures\n",
    "from scipy import stats\n",
    "import time\n",
    "\n",
    "# pandas tricks for better display\n",
    "pd.options.display.max_columns = 50  \n",
    "pd.options.display.max_rows = 500     \n",
    "pd.options.display.max_colwidth = 100\n",
    "pd.options.display.precision = 3\n",
    "\n",
    "from warnings import simplefilter\n",
    "simplefilter('ignore', category=FutureWarning)"
   ]
  },
  {
   "cell_type": "code",
   "execution_count": 4,
   "metadata": {},
   "outputs": [],
   "source": [
    "# For calculating total notebook runtime\n",
    "notebook_start = time.time()"
   ]
  },
  {
   "cell_type": "markdown",
   "metadata": {
    "cell_id": "e3ac03bc-f0ec-4c6b-a41a-9c8eeaa80770",
    "colab_type": "text",
    "id": "-5WJkGo16514",
    "tags": []
   },
   "source": [
    "## About this homework\n",
    "\n",
    "This assignment is the first in which we'll go through the full process of loading a dataset, performing exploratory data analysis (EDA), splitting the data into training, validation, and test sets, and finally fitting and evaluating models. You can use the table of contents panel in your Jupyter environment (e.g., JupyterLab or Colab) to navigate between sections.\n",
    "\n",
    "The homework is divided into three parts, each using a different dataset:\n",
    "\n",
    "-   **Part 1: Predicting Car Prices**\n",
    "    Explore two fundamental modeling techniques: k-Nearest Neighbors (kNN) regression, a non-parametric method, and simple linear regression, a parametric method. Use a validation set to tune the hyperparameter `k` for the kNN model.\n",
    "\n",
    "-   **Part 2: Analyzing Simulated Income Data**\n",
    "    Practice exploratory data analysis (EDA) and data critique. Create insightful visualizations to explore relationships in a simulated US census dataset and calculate the Gini coefficient to measure income inequality.\n",
    "\n",
    "-   **Part 3: Modeling Bacteria Growth**\n",
    "    Dive deeper into model selection and the bias-variance tradeoff. Using polynomial regression, explore how model complexity (the degree of the polynomial) impacts performance. Compare two common techniques for hyperparameter tuning and model selection—using a single validation set versus k-fold cross-validation—to find a model that generalizes well and avoids overfitting."
   ]
  },
  {
   "cell_type": "markdown",
   "metadata": {},
   "source": [
    "<div style=\"background-color: #E6E6FA; color: black; border: 1px solid #e0e0e0; border-radius: 5px; padding: 10px 15px;\">\n",
    "\n",
    "### Instructions\n",
    "\n",
    "**Submission Checklist**\n",
    "- **Run All Cells:** Before submitting, always do **\"Restart Kernel and Run All Cells\"** to ensure your notebook runs top-to-bottom without errors and all output is visible.\n",
    "- **Submission:** Follow the submission instructions described in the Canvas assignment.\n",
    "\n",
    "**General Guidelines**\n",
    "- **Limit Output:** Avoid excessively long cell outputs.\n",
    "- **Clarity:** Plots must be legible and well-labeled. Written interpretations should explain what the results *mean*, not just describe them.\n",
    "- **Code Quality:** Write clean and efficient code. Avoid copy-pasting; use loops or functions instead.\n",
    "- **Libraries:** Use only the provided libraries unless you get staff approval.\n",
    "- **Autograding:** The provided tests are not exhaustive. Passing all tests does not guarantee full credit.\n",
    "- **Cell Management:** Feel free to add new cells as needed.\n",
    "\n",
    "</div>\n",
    "\n",
    "<a id=\"part1\"></a>\n",
    "    \n",
    "# PART 1 [35 pts]: Predicting the selling price of cars on CarDekho.com"
   ]
  },
  {
   "cell_type": "markdown",
   "metadata": {
    "cell_id": "7e70ce31-0411-4589-8fca-2c9592b4f4cc",
    "colab_type": "text",
    "id": "XL6pJ_Em652E",
    "jp-MarkdownHeadingCollapsed": true
   },
   "source": [
    "<a id=\"part1intro\"></a>\n",
    "\n",
    "## Overview\n",
    "\n",
    "According to its website, **CarDekho.com** is India's leading car search venture. Its website and app carry rich automotive content such as expert reviews, detailed specs and prices, comparisons, as well as videos and pictures of all car brands and models available in India. Each car has a **current selling price**, which is the price for buying a used car on this site, and an **MRP**, which is the retail price of the car. These two prices differ depending on factors such as brand, make year, mileage, condition, etc.  \n",
    "\n",
    "### Dataset \n",
    "\n",
    "The dataset contains 601 used cars and is available as `data/car_dekho_full.csv`. It contains the following columns:\n",
    "\n",
    "- **Year** - make year (year the car was made), \n",
    "- **Current_Selling_Price** - current price of a used car on CarDekho.com (in lakhs),\n",
    "- **MRP** - maximum retail price of the car when it was new (in lakhs). \n",
    "- **Kms_Driven** - number of kilometers\n",
    "\n",
    "**NOTE:** 1 *lakh*  is 100,000 Rupees in the Indian numbering system. Also, kilometers are used as a measure of distance instead of miles.\n",
    "\n",
    "### Objective\n",
    "\n",
    "Using kNN and linear regression we will predict the `Current_Selling_Price` from the other features available in this dataset."
   ]
  },
  {
   "cell_type": "markdown",
   "metadata": {
    "cell_id": "f730863d-8973-4500-a833-88ae80ff8d60",
    "colab_type": "text",
    "id": "56zUJ3q4652F"
   },
   "source": [
    "<a id=\"part1questions\"></a>\n",
    "\n",
    "## Question 1: Exploratory data analysis (EDA) [5 pts]\n",
    "\n",
    "To reach the goal of predicting the `Current_Selling_Price`, start by inspecting the dataset using Exploratory Data Analysis (EDA).\n",
    "\n",
    "**Load the dataset, inspect it, and answer the following questions:**"
   ]
  },
  {
   "cell_type": "markdown",
   "metadata": {
    "deletable": false,
    "editable": false
   },
   "source": [
    "<!-- BEGIN QUESTION -->\n",
    "\n",
    "### Q1.1\n",
    "\n",
    "Identify all variables in the dataset. For each variable, state whether you consider it to be quantitative or categorical and briefly justify your choices."
   ]
  },
  {
   "cell_type": "markdown",
   "metadata": {
    "tags": [
     "otter_answer_cell"
    ]
   },
   "source": [
    "Like it says above, the variables are Current_Selling_Price, Year, MRP, and Kms_Driven. I consider Current_Selling_Price, MRP, and Kms_Driven quantitative because they're numerical and it's meaningful to do things like take the mean of or add them. I'd also consider year to be quantitative in this situation because the year is basically standing in for age. "
   ]
  },
  {
   "cell_type": "code",
   "execution_count": 5,
   "metadata": {
    "cell_id": "c4c06885-2f94-4f6a-b179-f6b7f240f13a",
    "colab": {
     "base_uri": "https://localhost:8080/",
     "height": 119
    },
    "colab_type": "code",
    "id": "rM43pU2oZWwF",
    "outputId": "e1744532-62e7-492b-8a72-239064636dcc",
    "tags": [
     "otter_answer_cell"
    ]
   },
   "outputs": [
    {
     "data": {
      "text/html": [
       "<div>\n",
       "<style scoped>\n",
       "    .dataframe tbody tr th:only-of-type {\n",
       "        vertical-align: middle;\n",
       "    }\n",
       "\n",
       "    .dataframe tbody tr th {\n",
       "        vertical-align: top;\n",
       "    }\n",
       "\n",
       "    .dataframe thead th {\n",
       "        text-align: right;\n",
       "    }\n",
       "</style>\n",
       "<table border=\"1\" class=\"dataframe\">\n",
       "  <thead>\n",
       "    <tr style=\"text-align: right;\">\n",
       "      <th></th>\n",
       "      <th>Year</th>\n",
       "      <th>Current_Selling_Price</th>\n",
       "      <th>MRP</th>\n",
       "      <th>Kms_Driven</th>\n",
       "    </tr>\n",
       "  </thead>\n",
       "  <tbody>\n",
       "    <tr>\n",
       "      <th>0</th>\n",
       "      <td>2016</td>\n",
       "      <td>5.25</td>\n",
       "      <td>5.70</td>\n",
       "      <td>3493</td>\n",
       "    </tr>\n",
       "    <tr>\n",
       "      <th>1</th>\n",
       "      <td>2005</td>\n",
       "      <td>3.51</td>\n",
       "      <td>13.70</td>\n",
       "      <td>75000</td>\n",
       "    </tr>\n",
       "    <tr>\n",
       "      <th>2</th>\n",
       "      <td>2010</td>\n",
       "      <td>0.31</td>\n",
       "      <td>1.05</td>\n",
       "      <td>213000</td>\n",
       "    </tr>\n",
       "    <tr>\n",
       "      <th>3</th>\n",
       "      <td>2006</td>\n",
       "      <td>2.10</td>\n",
       "      <td>7.60</td>\n",
       "      <td>50456</td>\n",
       "    </tr>\n",
       "    <tr>\n",
       "      <th>4</th>\n",
       "      <td>2005</td>\n",
       "      <td>0.20</td>\n",
       "      <td>0.57</td>\n",
       "      <td>55000</td>\n",
       "    </tr>\n",
       "  </tbody>\n",
       "</table>\n",
       "</div>"
      ],
      "text/plain": [
       "   Year  Current_Selling_Price    MRP  Kms_Driven\n",
       "0  2016                   5.25   5.70        3493\n",
       "1  2005                   3.51  13.70       75000\n",
       "2  2010                   0.31   1.05      213000\n",
       "3  2006                   2.10   7.60       50456\n",
       "4  2005                   0.20   0.57       55000"
      ]
     },
     "metadata": {},
     "output_type": "display_data"
    }
   ],
   "source": [
    "car_df = pd.read_csv(\"data/car_dekho_full.csv\")\n",
    "display(car_df.head())\n"
   ]
  },
  {
   "cell_type": "markdown",
   "metadata": {
    "deletable": false,
    "editable": false
   },
   "source": [
    "<!-- END QUESTION -->\n",
    "\n",
    "<!-- BEGIN QUESTION -->\n",
    "\n",
    "### Q1.2\n",
    "\n",
    "The goal in this section is to identify the best feature to use to predict our response, `Current_Selling_Price`. \n",
    "\n",
    "- Plot a scatter plot of each feature and our reponse and examine any relationships.\n",
    "- Which is the predictor that seems to best predict `Current_Selling_Price`? Provide an interpretation of the plots that justifies your choice."
   ]
  },
  {
   "cell_type": "markdown",
   "metadata": {
    "tags": [
     "otter_answer_cell"
    ]
   },
   "source": [
    "Based on the scatterplots, max retail price looks like it best predicts the current price. The year does look meaningful--no pre-2010 cars are priced above 5 lakhs, while a few more recent ones can be priced above 20 lakhs--but there's so much variation in price in each year after the first few that year alone can't tell us much about the current price. The scatterplot for kilometers driven looks like a blob, with no relationship between km and current price immediately visible to me. It looks like cars with less than 50,000 km driven all have similar dsitributions in current price. The plot for MRP, on the other hand, seems to show a somewhat linear relationship, suggesting that cars maintain some fraction of their original value as they depreciate."
   ]
  },
  {
   "cell_type": "code",
   "execution_count": 6,
   "metadata": {
    "tags": [
     "otter_answer_cell"
    ]
   },
   "outputs": [
    {
     "data": {
      "text/plain": [
       "Text(0.5, 0.98, 'Which feature looks like it best predicts the current selling price?')"
      ]
     },
     "execution_count": 6,
     "metadata": {},
     "output_type": "execute_result"
    },
    {
     "data": {
      "image/png": "[encoded data removed]",
      "text/plain": [
       "<Figure size 1200x400 with 3 Axes>"
      ]
     },
     "metadata": {},
     "output_type": "display_data"
    }
   ],
   "source": [
    "f, axs = plt.subplots(1, 3, figsize=(12, 4), sharey=True)\n",
    "sns.scatterplot(x = car_df[\"Year\"], y = car_df[\"Current_Selling_Price\"], ax=axs[0])\n",
    "sns.scatterplot(x = car_df[\"MRP\"], y = car_df[\"Current_Selling_Price\"], ax=axs[1])\n",
    "sns.scatterplot(x = car_df[\"Kms_Driven\"], y = car_df[\"Current_Selling_Price\"], ax=axs[2])\n",
    "axs[0].set_ylabel(\"Current Price (lakhs)\")\n",
    "axs[1].set_xlabel(\"Maximum retail price (lakhs)\")\n",
    "axs[2].set_xlabel(\"Kilometers driven\")\n",
    "f.suptitle(\"Which feature looks like it best predicts the current selling price?\")"
   ]
  },
  {
   "cell_type": "code",
   "execution_count": 7,
   "metadata": {},
   "outputs": [
    {
     "data": {
      "text/plain": [
       "<seaborn.axisgrid.PairGrid at 0x135e6a270>"
      ]
     },
     "execution_count": 7,
     "metadata": {},
     "output_type": "execute_result"
    },
    {
     "data": {
      "image/png": "[encoded data removed]",
      "text/plain": [
       "<Figure size 1000x250 with 5 Axes>"
      ]
     },
     "metadata": {},
     "output_type": "display_data"
    }
   ],
   "source": [
    "sns.pairplot(car_df, y_vars=[\"Current_Selling_Price\"])"
   ]
  },
  {
   "cell_type": "markdown",
   "metadata": {
    "deletable": false,
    "editable": false,
    "tags": []
   },
   "source": [
    "<!-- END QUESTION -->\n",
    "\n",
    "<a id=\"part2questions\"></a>\n",
    "\n",
    "## Question 2: k-Nearest Neighbors [14 pts]\n",
    "\n",
    "We will begin our modeling with k-Nearest Neighbors (kNN) regression, using `sklearn` for both preprocessing and model fitting."
   ]
  },
  {
   "cell_type": "markdown",
   "metadata": {
    "deletable": false,
    "editable": false
   },
   "source": [
    "### Q2.1"
   ]
  },
  {
   "cell_type": "markdown",
   "metadata": {
    "deletable": false,
    "editable": false
   },
   "source": [
    "Split the dataset into a train, validation, and test set with 60% training data, 20% validation data, and 20% testing data, using argument `random_state = 109`.\n",
    "\n",
    "The resulting splits should be stored in the variables:\n",
    "\n",
    "- `X_train_and_val`, `X_test`, `y_train_and_val`, `y_test` (from the first split)  \n",
    "- `X_train`, `X_val`, `y_train`, `y_val` (from the second split)"
   ]
  },
  {
   "cell_type": "code",
   "execution_count": 8,
   "metadata": {
    "cell_id": "c81c05da-6e1e-4172-9fca-4d426b2d4018",
    "colab": {},
    "colab_type": "code",
    "id": "ariPVC-5hpCD",
    "tags": [
     "otter_answer_cell"
    ]
   },
   "outputs": [],
   "source": [
    "x = car_df[[\"MRP\"]]\n",
    "y = car_df[\"Current_Selling_Price\"]\n",
    "# First split\n",
    "X_train_and_val, X_test, y_train_and_val, y_test = train_test_split(x, y, test_size=.2, random_state=109, shuffle=True)\n",
    "# Second split\n",
    "X_train, X_val, y_train, y_val = train_test_split(X_train_and_val, y_train_and_val, test_size=0.25, random_state=109, shuffle=True)"
   ]
  },
  {
   "cell_type": "code",
   "execution_count": 9,
   "metadata": {
    "deletable": false,
    "editable": false
   },
   "outputs": [
    {
     "data": {
      "text/html": [
       "<p><strong><pre style='display: inline;'>q2.1</pre></strong> passed! 🌈</p>"
      ],
      "text/plain": [
       "q2.1 results: All test cases passed!"
      ]
     },
     "execution_count": 9,
     "metadata": {},
     "output_type": "execute_result"
    }
   ],
   "source": [
    "grader.check(\"q2.1\")"
   ]
  },
  {
   "cell_type": "markdown",
   "metadata": {},
   "source": [
    "### Q2.2"
   ]
  },
  {
   "cell_type": "markdown",
   "metadata": {},
   "source": [
    "Now, we will fit several kNN regression models for various values of $k$ to identify the best parameterization."
   ]
  },
  {
   "cell_type": "markdown",
   "metadata": {
    "deletable": false,
    "editable": false
   },
   "source": [
    "<!-- BEGIN QUESTION -->\n",
    "\n",
    "#### Q2.2.1"
   ]
  },
  {
   "cell_type": "markdown",
   "metadata": {
    "deletable": false,
    "editable": false
   },
   "source": [
    "For each $k$ in $k \\in [1,2,3,5,7,10,50,100]$, fit a k-NN regression model to the training data with response `Current_Selling_Price` and the predictor `MRP`. \n",
    "  - For each $k$, make a plot of reponse vs. predictor (8 plots in total, arranged in a 4×2 grid). \n",
    "  - Each of your 8 plots should clearly show (a) the training data and the validation data in different colors, (b) the model prediction, and (c) title, legend, and axis labels.\n",
    "  - **NOTE:** Feel free to use the `plt.subplots()` code we provide to specify your 4x2 grid, unless you first try that and decide that you have a clearer, cleaner way of accomplishing this task."
   ]
  },
  {
   "cell_type": "code",
   "execution_count": 19,
   "metadata": {
    "cell_id": "c81c05da-6e1e-4172-9fca-4d426b2d4018",
    "colab": {},
    "colab_type": "code",
    "id": "ariPVC-5hpCD",
    "tags": [
     "otter_answer_cell"
    ]
   },
   "outputs": [
    {
     "data": {
      "image/png": "[encoded data removed]",
      "text/plain": [
       "<Figure size 1000x1500 with 8 Axes>"
      ]
     },
     "metadata": {},
     "output_type": "display_data"
    }
   ],
   "source": [
    "ks = [1, 2, 3, 5, 7, 10, 50, 100]\n",
    "models_MRP = []\n",
    "x_lin = np.linspace(x.min(), x.max(), 1000)\n",
    "x_lin = pd.DataFrame(x_lin, columns=['MRP']) # Or else feature name mismatch warning\n",
    "\n",
    "for k in ks:\n",
    "    models_MRP.append(KNeighborsRegressor(n_neighbors=k).fit(X_train, y_train))\n",
    "\n",
    "# Provided code for plotting\n",
    "fig, axes = plt.subplots(nrows=len(models_MRP)//2, ncols=2, figsize=(10,15))\n",
    "axes = axes.ravel()\n",
    "for k, model, ax in zip(ks, models_MRP, axes):\n",
    "    ax.scatter(X_train, y_train, alpha=0.45, label='training')\n",
    "    ax.scatter(X_val, y_val, alpha=0.45, label='validation')\n",
    "    ax.plot(x_lin, model.predict(x_lin), c='k', label='predictions', lw=1)\n",
    "    ax.set_xlabel('MRP')\n",
    "    ax.set_ylabel('Current Selling Price')\n",
    "    ax.set_title(f'kNN Regression Model (k={k})')\n",
    "    ax.legend()\n",
    "\n",
    "plt.tight_layout()\n"
   ]
  },
  {
   "cell_type": "markdown",
   "metadata": {
    "deletable": false,
    "editable": false
   },
   "source": [
    "<!-- END QUESTION -->\n",
    "\n",
    "<!-- BEGIN QUESTION -->\n",
    "\n",
    "#### Q2.2.2"
   ]
  },
  {
   "cell_type": "markdown",
   "metadata": {
    "deletable": false,
    "editable": false
   },
   "source": [
    "Plot the training and validation $MSE$ values as a function of $k$ (1 plot in total)."
   ]
  },
  {
   "cell_type": "code",
   "execution_count": 21,
   "metadata": {
    "cell_id": "b23b23d1-5a2d-48fe-bbff-b373a155e51f",
    "colab": {
     "base_uri": "https://localhost:8080/",
     "height": 513
    },
    "colab_type": "code",
    "id": "zGOrNK2B653F",
    "outputId": "47e9cafe-e18c-4438-c6f4-cf8d02c0e17f",
    "tags": [
     "otter_answer_cell"
    ]
   },
   "outputs": [],
   "source": [
    "# Also from section code\n",
    "train_mses, validate_mses = [], []\n",
    "for model in models_MRP:\n",
    "    train_mses.append(mean_squared_error(y_train, model.predict(X_train)))\n",
    "    validate_mses.append(mean_squared_error(y_val, model.predict(X_val)))"
   ]
  },
  {
   "cell_type": "code",
   "execution_count": 29,
   "metadata": {},
   "outputs": [
    {
     "data": {
      "image/png": "[encoded data removed]",
      "text/plain": [
       "<Figure size 640x480 with 1 Axes>"
      ]
     },
     "metadata": {},
     "output_type": "display_data"
    }
   ],
   "source": [
    "plt.plot(ks, train_mses, label='Training MSE')\n",
    "plt.plot(ks, validate_mses,   label='Validation MSE')\n",
    "plt.xlabel('k')\n",
    "plt.ylabel('MSE')\n",
    "plt.title('kNN training and validation $MSE$ values as a function of $k$')\n",
    "plt.locator_params(axis='x', nbins=12)\n",
    "plt.legend()\n",
    "plt.show()"
   ]
  },
  {
   "cell_type": "markdown",
   "metadata": {
    "deletable": false,
    "editable": false
   },
   "source": [
    "<!-- END QUESTION -->\n",
    "\n",
    "#### Q2.2.3"
   ]
  },
  {
   "cell_type": "markdown",
   "metadata": {
    "deletable": false,
    "editable": false
   },
   "source": [
    "Find the best model based on the validation $MSE$ values. Store the best $k$-value in `best_k` and the best validation $MSE$ in `best_mse`."
   ]
  },
  {
   "cell_type": "code",
   "execution_count": 34,
   "metadata": {
    "cell_id": "4fd7f27b-54de-42ae-9da3-26bed05db487",
    "colab": {},
    "colab_type": "code",
    "id": "orqXeQ1xHd-U",
    "tags": [
     "otter_answer_cell"
    ]
   },
   "outputs": [],
   "source": [
    "# your code here\n",
    "best_k = ks[int(np.argmin(validate_mses))]\n",
    "best_mse = min(validate_mses)"
   ]
  },
  {
   "cell_type": "code",
   "execution_count": 35,
   "metadata": {
    "cell_id": "4fd7f27b-54de-42ae-9da3-26bed05db487",
    "colab": {},
    "colab_type": "code",
    "deletable": false,
    "editable": false,
    "id": "orqXeQ1xHd-U"
   },
   "outputs": [
    {
     "name": "stdout",
     "output_type": "stream",
     "text": [
      "The best k value is 5. This corresponds to the lowest validation MSE of 2.889.\n"
     ]
    }
   ],
   "source": [
    "print(\n",
    "    f\"The best k value is {best_k}. This corresponds to the \"\n",
    "    f\"lowest validation MSE of {best_mse:.3f}.\"\n",
    ")"
   ]
  },
  {
   "cell_type": "code",
   "execution_count": 36,
   "metadata": {
    "deletable": false,
    "editable": false
   },
   "outputs": [
    {
     "data": {
      "text/html": [
       "<p><strong><pre style='display: inline;'>q2.2.3</pre></strong> passed! ✨</p>"
      ],
      "text/plain": [
       "q2.2.3 results: All test cases passed!"
      ]
     },
     "execution_count": 36,
     "metadata": {},
     "output_type": "execute_result"
    }
   ],
   "source": [
    "grader.check(\"q2.2.3\")"
   ]
  },
  {
   "cell_type": "markdown",
   "metadata": {
    "deletable": false,
    "editable": false
   },
   "source": [
    "#### Q2.2.4"
   ]
  },
  {
   "cell_type": "markdown",
   "metadata": {
    "deletable": false,
    "editable": false
   },
   "source": [
    "Now that you've chosen your best k, fit your final model and report the test $R^2$. Save the result in `best_r2`. **Hint:** why might you need to fit the model again before evaluating on the test set?"
   ]
  },
  {
   "cell_type": "code",
   "execution_count": 39,
   "metadata": {},
   "outputs": [],
   "source": [
    "# Fitting on training + validation set \n",
    "knn_final = KNeighborsRegressor(n_neighbors=best_k).fit(X_train_and_val, y_train_and_val)"
   ]
  },
  {
   "cell_type": "code",
   "execution_count": 40,
   "metadata": {
    "cell_id": "4fd7f27b-54de-42ae-9da3-26bed05db487",
    "colab": {},
    "colab_type": "code",
    "id": "orqXeQ1xHd-U",
    "scrolled": true,
    "tags": [
     "otter_answer_cell"
    ]
   },
   "outputs": [],
   "source": [
    "# your code here\n",
    "best_r2 = r2_score(y_test, knn_final.predict(X_test))\n",
    "knn_test_mse = mean_squared_error(y_test, knn_final.predict(X_test))"
   ]
  },
  {
   "cell_type": "code",
   "execution_count": 41,
   "metadata": {
    "cell_id": "4fd7f27b-54de-42ae-9da3-26bed05db487",
    "colab": {},
    "colab_type": "code",
    "deletable": false,
    "editable": false,
    "id": "orqXeQ1xHd-U",
    "scrolled": true
   },
   "outputs": [
    {
     "name": "stdout",
     "output_type": "stream",
     "text": [
      "The R-squared score evaluated on the test set for the best model with k=5 is 0.8247.\n",
      "The test MSE is 2.4465.\n"
     ]
    }
   ],
   "source": [
    "print(\n",
    "    f\"The R-squared score evaluated on the test set for the best model \"\n",
    "    f\"with k={best_k} is {best_r2:.4f}.\"\n",
    "    f\"\\nThe test MSE is {knn_test_mse:.4f}.\"\n",
    ")"
   ]
  },
  {
   "cell_type": "code",
   "execution_count": 42,
   "metadata": {
    "deletable": false,
    "editable": false
   },
   "outputs": [
    {
     "data": {
      "text/html": [
       "<p><strong><pre style='display: inline;'>q2.2.4</pre></strong> passed! 🍀</p>"
      ],
      "text/plain": [
       "q2.2.4 results: All test cases passed!"
      ]
     },
     "execution_count": 42,
     "metadata": {},
     "output_type": "execute_result"
    }
   ],
   "source": [
    "grader.check(\"q2.2.4\")"
   ]
  },
  {
   "cell_type": "markdown",
   "metadata": {},
   "source": [
    "<a id=\"part3questions\"></a>\n",
    "\n",
    "## Question 3: Simple linear regression [16 pts]"
   ]
  },
  {
   "cell_type": "markdown",
   "metadata": {},
   "source": [
    "### Q3.1"
   ]
  },
  {
   "cell_type": "markdown",
   "metadata": {},
   "source": [
    "We will now fit our data using a linear regression model. Choose the same **predictor** and **response** variables you used in the kNN model. Use a 75% training and 25% testing split of the data, using `random_state = 109`."
   ]
  },
  {
   "cell_type": "markdown",
   "metadata": {
    "deletable": false,
    "editable": false
   },
   "source": [
    "For a fair comparison with the kNN model, we will use the same train/test split from Q2.\n",
    "Since our simple linear regression model does not require a validation set for hyperparameter tuning, we can train it on the combined training and validation data."
   ]
  },
  {
   "cell_type": "code",
   "execution_count": null,
   "metadata": {
    "deletable": false,
    "editable": false
   },
   "outputs": [],
   "source": [
    "X_train, y_train = X_train_and_val, y_train_and_val"
   ]
  },
  {
   "cell_type": "markdown",
   "metadata": {
    "deletable": false,
    "editable": false
   },
   "source": [
    "The variables X_test and y_test are already defined from the split in Q2.1 and will be used for testing."
   ]
  },
  {
   "cell_type": "markdown",
   "metadata": {
    "deletable": false,
    "editable": false
   },
   "source": [
    "#### Q3.1.1"
   ]
  },
  {
   "cell_type": "markdown",
   "metadata": {
    "deletable": false,
    "editable": false
   },
   "source": [
    "Fit a linear regression model. Name your model `linreg`."
   ]
  },
  {
   "cell_type": "code",
   "execution_count": null,
   "metadata": {
    "cell_id": "c1fe1ac5-8d71-474f-99fd-728403e1769a",
    "colab": {},
    "colab_type": "code",
    "id": "kFK9EZbRmXPg",
    "tags": [
     "otter_answer_cell"
    ]
   },
   "outputs": [],
   "source": [
    "# your code here\n",
    "# Instantiate a LinearRegression class object and fit with train data\n",
    "linreg = ..."
   ]
  },
  {
   "cell_type": "code",
   "execution_count": null,
   "metadata": {
    "deletable": false,
    "editable": false
   },
   "outputs": [],
   "source": [
    "grader.check(\"q3.1.1\")"
   ]
  },
  {
   "cell_type": "markdown",
   "metadata": {
    "deletable": false,
    "editable": false
   },
   "source": [
    "#### Q3.1.2"
   ]
  },
  {
   "cell_type": "markdown",
   "metadata": {
    "deletable": false,
    "editable": false
   },
   "source": [
    "Report the slope and intercept values for the fitted linear model. Name your variables `slope` and `intercept`."
   ]
  },
  {
   "cell_type": "code",
   "execution_count": null,
   "metadata": {
    "cell_id": "c1fe1ac5-8d71-474f-99fd-728403e1769a",
    "colab": {},
    "colab_type": "code",
    "id": "kFK9EZbRmXPg",
    "tags": [
     "otter_answer_cell"
    ]
   },
   "outputs": [],
   "source": [
    "# your code here\n",
    "slope = ...\n",
    "intercept = ..."
   ]
  },
  {
   "cell_type": "code",
   "execution_count": null,
   "metadata": {
    "cell_id": "c1fe1ac5-8d71-474f-99fd-728403e1769a",
    "colab": {},
    "colab_type": "code",
    "deletable": false,
    "editable": false,
    "id": "kFK9EZbRmXPg"
   },
   "outputs": [],
   "source": [
    "print(\n",
    "    f\"Intercept of the fitted linear model\\t\\t{intercept:.4f}\\n\"\n",
    "    f\"Slope of the fitted linear model\\t{slope:.4f}\"\n",
    ")"
   ]
  },
  {
   "cell_type": "code",
   "execution_count": null,
   "metadata": {
    "deletable": false,
    "editable": false
   },
   "outputs": [],
   "source": [
    "grader.check(\"q3.1.2\")"
   ]
  },
  {
   "cell_type": "markdown",
   "metadata": {
    "deletable": false,
    "editable": false
   },
   "source": [
    "#### Q3.1.3"
   ]
  },
  {
   "cell_type": "markdown",
   "metadata": {
    "deletable": false,
    "editable": false
   },
   "source": [
    "Report the $MSE$ for the training and test sets and the $R^2$ for the test set. Name your variables `lin_train_mse`, `lin_test_mse`, and `lin_test_r2`."
   ]
  },
  {
   "cell_type": "code",
   "execution_count": null,
   "metadata": {
    "cell_id": "c1fe1ac5-8d71-474f-99fd-728403e1769a",
    "colab": {},
    "colab_type": "code",
    "id": "kFK9EZbRmXPg",
    "tags": [
     "otter_answer_cell"
    ]
   },
   "outputs": [],
   "source": [
    "# your code here \n",
    "#Compute the MSE of the model\n",
    "lin_train_mse = ...\n",
    "lin_test_mse = ...\n",
    "#Compute the R-squared of the model\n",
    "lin_test_r2 = ..."
   ]
  },
  {
   "cell_type": "code",
   "execution_count": null,
   "metadata": {
    "cell_id": "c1fe1ac5-8d71-474f-99fd-728403e1769a",
    "colab": {},
    "colab_type": "code",
    "deletable": false,
    "editable": false,
    "id": "kFK9EZbRmXPg"
   },
   "outputs": [],
   "source": [
    "print(\"Linear regression model results:\\n\")\n",
    "print(\n",
    "    \"\\tTrain MSE\\t{:.4f}\\n\"\n",
    "    \"\\tTest MSE\\t{:.4f}\\n\".format(\n",
    "        lin_train_mse,\n",
    "        lin_test_mse,\n",
    "    )\n",
    ")\n",
    "\n",
    "print(f\"\\tTest R-squared\\t{lin_test_r2:.4f}\")"
   ]
  },
  {
   "cell_type": "code",
   "execution_count": null,
   "metadata": {
    "deletable": false,
    "editable": false
   },
   "outputs": [],
   "source": [
    "grader.check(\"q3.1.3\")"
   ]
  },
  {
   "cell_type": "markdown",
   "metadata": {
    "deletable": false,
    "editable": false
   },
   "source": [
    "<!-- BEGIN QUESTION -->\n",
    "\n",
    "#### Q3.1.4"
   ]
  },
  {
   "cell_type": "markdown",
   "metadata": {
    "deletable": false,
    "editable": false
   },
   "source": [
    "Create the following 3 plots:\n",
    "- Plot the **regression line** along with the **training data**.\n",
    "- Plot the **residuals** of the model on the **training** set as a function of the **predictor** variable. Draw a horizontal line denoting the zero residual value on the $y$-axis.\n",
    "- Plot a the **distribution** of the **residuals** on the **training** set.\n",
    "\n",
    "As always, your plots should be well-labeled."
   ]
  },
  {
   "cell_type": "code",
   "execution_count": null,
   "metadata": {
    "cell_id": "c1fe1ac5-8d71-474f-99fd-728403e1769a",
    "colab": {},
    "colab_type": "code",
    "id": "kFK9EZbRmXPg",
    "tags": [
     "otter_answer_cell"
    ]
   },
   "outputs": [],
   "source": [
    "# your code here "
   ]
  },
  {
   "cell_type": "markdown",
   "metadata": {
    "deletable": false,
    "editable": false
   },
   "source": [
    "<!-- END QUESTION -->\n",
    "\n",
    "### Q3.2\n",
    "Answer the following questions about your results:"
   ]
  },
  {
   "cell_type": "markdown",
   "metadata": {
    "deletable": false,
    "editable": false
   },
   "source": [
    "<!-- BEGIN QUESTION -->\n",
    "\n",
    "#### Q3.2.1"
   ]
  },
  {
   "cell_type": "markdown",
   "metadata": {
    "deletable": false,
    "editable": false
   },
   "source": [
    "A linear regression model makes four important assumptions. For each assumption, describe how one or more of the plots in the previous question may provide evidence that (1) the assumption holds, (2) the assumption is violated, or (3) the plots do not provide enough evidence. In the latter case, suggest an additional diagnostic plot(s) or test(s) that could be used to evaluate the assumption."
   ]
  },
  {
   "cell_type": "markdown",
   "metadata": {
    "tags": [
     "otter_answer_cell"
    ]
   },
   "source": [
    "_Type your answer here, replacing this text._"
   ]
  },
  {
   "cell_type": "markdown",
   "metadata": {
    "deletable": false,
    "editable": false
   },
   "source": [
    "<!-- END QUESTION -->\n",
    "\n",
    "<!-- BEGIN QUESTION -->\n",
    "\n",
    " \n",
    "#### Q3.2.2\n",
    "Based on your findings in Q3.2.1, identify the most significant assumption violation. Propose and implement a modified linear regression model that is designed to address this specific issue. Fit your new model and report its train and test MSE. In your explanation, justify why this modeling adjustment is appropriate for the violation you observed."
   ]
  },
  {
   "cell_type": "markdown",
   "metadata": {
    "tags": [
     "otter_answer_cell"
    ]
   },
   "source": [
    "_Type your answer here, replacing this text._"
   ]
  },
  {
   "cell_type": "code",
   "execution_count": null,
   "metadata": {
    "tags": [
     "otter_answer_cell"
    ]
   },
   "outputs": [],
   "source": [
    "# your code here"
   ]
  },
  {
   "cell_type": "markdown",
   "metadata": {
    "deletable": false,
    "editable": false
   },
   "source": [
    "<!-- END QUESTION -->\n",
    "\n",
    "<!-- BEGIN QUESTION -->\n",
    "\n",
    "#### Q3.2.3"
   ]
  },
  {
   "cell_type": "markdown",
   "metadata": {
    "deletable": false,
    "editable": false
   },
   "source": [
    "Based on your results, which model would you select as the best for predicting car prices? Justify your choice by comparing their performance on the test set. Is your chosen model a \"good\" model? Explain why or why not, and discuss any reasons you might have to doubt your choice."
   ]
  },
  {
   "cell_type": "markdown",
   "metadata": {
    "tags": [
     "otter_answer_cell"
    ]
   },
   "source": [
    "_Type your answer here, replacing this text._"
   ]
  },
  {
   "cell_type": "markdown",
   "metadata": {
    "deletable": false,
    "editable": false
   },
   "source": [
    "<!-- END QUESTION -->\n",
    "\n",
    "<a id=\"part2\"></a>\n",
    "    \n",
    "# PART 2 [32 pts]: Analysis of 2024 US Annual Social and Economic (ASEC) Supplement"
   ]
  },
  {
   "cell_type": "markdown",
   "metadata": {
    "cell_id": "da342829-572c-4a6b-bb45-a2d2f3d0468e"
   },
   "source": [
    "<a id=\"part2intro\"></a>\n",
    "\n",
    "## Overview\n",
    "\n",
    "In this part we analyze *simulated* income data from the publically available 2024 US Annual Social and Economic (ASEC) Supplement (https://www.census.gov/data/datasets/time-series/demo/cps/cps-asec.html), provided by the US Census Bureau. The Current Population Survey (CPS) has been conducted monthly for over 50 years. Currently, about 54,000 households are interviewed monthly, scientifically selected on the basis of area of residence to represent the nation as a whole, individual states, and other specified areas. \n",
    "\n",
    "### Dataset\n",
    "\n",
    "The simulated data can be found in `data/census_data.csv`.\n",
    "\n",
    "The number of features have been greatly reduced from the original dataset. You can see the description of the original dataset in the [ASEC data dictionary](https://www2.census.gov/programs-surveys/cps/datasets/2024/march/asec2024_ddl_pub_full.pdf).\n",
    "\n",
    "In addition to subsetting the features, other preprocessing steps have been taken. For example, some categorical variables have had their number of unique values reduced. \n",
    "\n",
    "We refer to the data as *simulated* because sampling was used to turn what was originally an ordinal response variable (42 income brackets) into something more continous.\n",
    "\n",
    "Considering this, the results of your analysis should be viewed skeptically. You can view the the preprocessing steps taken to create the simplified, simulated data in `data/preprocessing.ipynb`.\n",
    "\n",
    "**NOTE:** Variables have been renamed for easier interpretation. You can find the original variable names in the preprocessing notebook. It will be these original variable names that appear in the data dictionary linked above."
   ]
  },
  {
   "cell_type": "markdown",
   "metadata": {},
   "source": [
    "### Features\n",
    "- **age** - Age of person \n",
    "- **hourly_pay** - Hourly salary of person (-1 if person is not payed by the hour)\n",
    "- **hours_per_week** - Number of hours usually worked per week\n",
    "- **weeks_worked** - Number of weeks worked per year\n",
    "\n",
    "- **sex** - {'Female': 0,'Male': 1} \n",
    "- **marital_status** - {'married':0,'widowed':1,'Divorced':2, 'Separated':3,'Never married':4}\n",
    "- **military_service** - {'has not served in the US armed forces':0,'has served in the US armed forces':1}\n",
    "- **student_status** - {'Not currently studying':0,'Enrolled full-time':1, 'Enrolled part-time':1}\n",
    "- **education** - {'Not finished high school': 0, 'High school': 1, 'Associate degree': 2, 'Bachelor\\'s': 3, ,'Master\\'s': 4,'Professional school degree': 5', Doctorate': 6}\n",
    "\n",
    "- **race** - {'White': 0, 'Black': 1, 'American Indian, Alaskan Native only (AI)': 2, 'Asian': 3, ,'Hawaiian, Pacific Islander (HP)': 4,'White-Black': 5', 'White-AI': 6, 'White-Asian': 7, 'White-HP': 8, 'Black-AI': 9, 'Black-Asian': 10, 'Black-HP': 11, 'AI-Asian': 12, 'AI-HP': 13, 'Asian-HP': 14, 'other race combinations': 15}\n",
    "\n",
    "- **industry** - Industry that the person is working in {'Other': 0, 'Agriculture, forestry, fishing, hunting': 1, 'Mining': 2, 'Construction': 3, ,'Manufacturing': 4,'Wholesale and retail trade': 5','Transportation and utilities': 6, 'Information': 7, 'Financial activities': 8, 'Professional and business services': 9, 'Education and health services': 10, 'Leisure and hospitality': 11, 'Other services': 12, 'Public administration': 13, 'Armed Forces': 14}\n",
    "\n",
    "- **occupation** - Occupation of person {'Other': 0, 'Management, business, and financial occ.': 1, 'Professional and related occ.': 2, 'Service occ.': 3, ,'Sales and related occ.': 4,'Office and administrative support occ.': 5','Farming, fishing and forestry': 6, 'Construction and extraction occ.': 7, 'Installation, maintenance and repair occ.': 8, 'Production occ.': 9, 'Transportation and material moving occ.': 10, 'Armed Forces': 11}\n",
    "\n",
    "\n",
    "- **income** - Annual income in dollars"
   ]
  },
  {
   "cell_type": "markdown",
   "metadata": {
    "cell_id": "c919f665-f1a2-46dd-955c-4cc11bc3ec5d",
    "tags": []
   },
   "source": [
    "<a id=\"part4questions\"></a>\n",
    "\n",
    "## Question 4: Investigating trends [18 pts]\n",
    "\n",
    "Below we'll answer questions about potential trends in the data with the help of plots and/or simple statistics. Your goal should be to communicate your findings clearly. So be sure to provide an interpretation with your visualizations or other output."
   ]
  },
  {
   "cell_type": "code",
   "execution_count": null,
   "metadata": {},
   "outputs": [],
   "source": [
    "df = pd.read_csv(\"data/census_data.csv\", index_col=0)\n",
    "df.head()"
   ]
  },
  {
   "cell_type": "markdown",
   "metadata": {
    "deletable": false,
    "editable": false
   },
   "source": [
    "<!-- BEGIN QUESTION -->\n",
    "\n",
    "### Q4.1"
   ]
  },
  {
   "cell_type": "markdown",
   "metadata": {
    "cell_id": "c919f665-f1a2-46dd-955c-4cc11bc3ec5d",
    "deletable": false,
    "editable": false
   },
   "source": [
    "Is there a disparity in income of participants by gender? Consider using a log scale or another technique when plotting to communicate findings more clearly."
   ]
  },
  {
   "cell_type": "markdown",
   "metadata": {
    "tags": [
     "otter_answer_cell"
    ]
   },
   "source": [
    "_Type your answer here, replacing this text._"
   ]
  },
  {
   "cell_type": "code",
   "execution_count": null,
   "metadata": {
    "tags": [
     "otter_answer_cell"
    ]
   },
   "outputs": [],
   "source": []
  },
  {
   "cell_type": "markdown",
   "metadata": {
    "deletable": false,
    "editable": false
   },
   "source": [
    "<!-- END QUESTION -->\n",
    "\n",
    "<!-- BEGIN QUESTION -->\n",
    "\n",
    "### Q4.2"
   ]
  },
  {
   "cell_type": "markdown",
   "metadata": {
    "deletable": false,
    "editable": false
   },
   "source": [
    "Let's investigate a few questions about education and income:\n",
    "- Is there a relationship between income and education level? \n",
    "\n",
    "- Is this trend similar across both genders in the dataset? \n",
    "\n",
    "- Is it possible to consider education level as an ordinal variable? For instance, consider whether retaining the numerical ordering in the dataset might be preferable to education level as a categorical variable lacking order."
   ]
  },
  {
   "cell_type": "markdown",
   "metadata": {
    "tags": [
     "otter_answer_cell"
    ]
   },
   "source": [
    "_Type your answer here, replacing this text._"
   ]
  },
  {
   "cell_type": "code",
   "execution_count": null,
   "metadata": {
    "tags": [
     "otter_answer_cell"
    ]
   },
   "outputs": [],
   "source": [
    "# your code here"
   ]
  },
  {
   "cell_type": "markdown",
   "metadata": {
    "deletable": false,
    "editable": false
   },
   "source": [
    "<!-- END QUESTION -->\n",
    "\n",
    "<!-- BEGIN QUESTION -->\n",
    "\n",
    "### Q4.3"
   ]
  },
  {
   "cell_type": "markdown",
   "metadata": {
    "deletable": false,
    "editable": false
   },
   "source": [
    "Is there a clear trend between age and income?"
   ]
  },
  {
   "cell_type": "markdown",
   "metadata": {
    "tags": [
     "otter_answer_cell"
    ]
   },
   "source": [
    "_Type your answer here, replacing this text._"
   ]
  },
  {
   "cell_type": "code",
   "execution_count": null,
   "metadata": {
    "tags": [
     "otter_answer_cell"
    ]
   },
   "outputs": [],
   "source": [
    "# your code here"
   ]
  },
  {
   "cell_type": "markdown",
   "metadata": {
    "deletable": false,
    "editable": false
   },
   "source": [
    "<!-- END QUESTION -->\n",
    "\n",
    "<!-- BEGIN QUESTION -->\n",
    "\n",
    "### Q4.4"
   ]
  },
  {
   "cell_type": "markdown",
   "metadata": {
    "cell_id": "c919f665-f1a2-46dd-955c-4cc11bc3ec5d",
    "deletable": false,
    "editable": false
   },
   "source": [
    "Do any of the quantitative attributes show a clear relationship with income? If so, are these relationships linear or non-linear?"
   ]
  },
  {
   "cell_type": "markdown",
   "metadata": {
    "tags": [
     "otter_answer_cell"
    ]
   },
   "source": [
    "_Type your answer here, replacing this text._"
   ]
  },
  {
   "cell_type": "code",
   "execution_count": null,
   "metadata": {
    "tags": [
     "otter_answer_cell"
    ]
   },
   "outputs": [],
   "source": [
    "# your code here"
   ]
  },
  {
   "cell_type": "markdown",
   "metadata": {
    "deletable": false,
    "editable": false
   },
   "source": [
    "<!-- END QUESTION -->\n",
    "\n",
    "<!-- BEGIN QUESTION -->\n",
    "\n",
    "### Q4.5"
   ]
  },
  {
   "cell_type": "markdown",
   "metadata": {
    "deletable": false,
    "editable": false
   },
   "source": [
    "Fit a simple linear regression model to explore the relationship between `military_service` and `income`. Based on your model, what is the estimated average difference in income for those with prior military service? What are some important limitations to consider when interpreting this result?"
   ]
  },
  {
   "cell_type": "markdown",
   "metadata": {
    "tags": [
     "otter_answer_cell"
    ]
   },
   "source": [
    "_Type your answer here, replacing this text._"
   ]
  },
  {
   "cell_type": "code",
   "execution_count": null,
   "metadata": {
    "tags": [
     "otter_answer_cell"
    ]
   },
   "outputs": [],
   "source": [
    "# your code here"
   ]
  },
  {
   "cell_type": "markdown",
   "metadata": {
    "deletable": false,
    "editable": false
   },
   "source": [
    "<!-- END QUESTION -->\n",
    "\n",
    "<!-- BEGIN QUESTION -->\n",
    "\n",
    "### Q4.6"
   ]
  },
  {
   "cell_type": "markdown",
   "metadata": {
    "deletable": false,
    "editable": false
   },
   "source": [
    "Propose a question of your own that you would like to explore in the data. Create a visualization to help you answer this question and provide an interpretation of your findings."
   ]
  },
  {
   "cell_type": "markdown",
   "metadata": {
    "tags": [
     "otter_answer_cell"
    ]
   },
   "source": [
    "_Type your answer here, replacing this text._"
   ]
  },
  {
   "cell_type": "code",
   "execution_count": null,
   "metadata": {
    "tags": [
     "otter_answer_cell"
    ]
   },
   "outputs": [],
   "source": [
    "# your code here"
   ]
  },
  {
   "cell_type": "markdown",
   "metadata": {
    "cell_id": "47c47e2e-427f-408c-9384-a92fa779b3aa",
    "deletable": false,
    "editable": false,
    "tags": []
   },
   "source": [
    "<!-- END QUESTION -->\n",
    "\n",
    "<a id=\"part5questions\"></a>\n",
    "\n",
    "## Question 5: Calculate the Gini coefficient [8 pts]\n",
    "\n",
    "\n",
    "**Gini coefficients are often used to quantify income inequality.** For an introductory overview of the Gini coefficient, its derivation, and its uses, you can [read more about it here](https://en.wikipedia.org/wiki/Gini_coefficient). That article also provides [a useful graphical representation](https://en.wikipedia.org/wiki/File:Economics_Gini_coefficient2.svg) of the Gini coefficient to better understand how it measures inequality. \n",
    "\n",
    "The Gini coefficient is defined by the formula:\n",
    "\n",
    "$$G = \\dfrac{ \\sum_{i=1}^{n} (2i - n - 1) x_i}{n  \\sum_{i=1}^{n} x_i}$$\n",
    "\n",
    "where $x$ is an observed value, $n$ is the number of values observed and $i$ is the rank of values in **ascending** order.\n",
    "\n",
    "A Gini coefficient of $G=0$ implies perfect income equality, whereas a Gini coefficient close to $G=1$ implies a concentration of wealth among the richest few."
   ]
  },
  {
   "cell_type": "markdown",
   "metadata": {
    "deletable": false,
    "editable": false
   },
   "source": [
    "### Q5.1"
   ]
  },
  {
   "cell_type": "markdown",
   "metadata": {
    "cell_id": "47c47e2e-427f-408c-9384-a92fa779b3aa",
    "deletable": false,
    "editable": false
   },
   "source": [
    "Based on the above formula, calculate and report the Gini coefficient for the income of those people in the the provided ASEC dataset. Store the result in `gini_coef`.\n",
    "\n",
    "- **NOTE:** For algorithmic simplicity and consistency, you can rank income values for all observations, keeping duplicate values in your sorted array. Therefore, you will likely have sorted income values $x_i$ similar to `[417, 417, 417, ..., 250000, 250000, 250000]` with corresponding rank indices $i$ similar to `[1, 2, 3, ..., 12353, 12354, 12355]`. Nothing more sophisticated than that is required for dealing with ties (i.e. duplicates) in your sorted income values for Question 5.1."
   ]
  },
  {
   "cell_type": "code",
   "execution_count": null,
   "metadata": {
    "cell_id": "5fe3f404-ec97-4146-ac4d-c44e54db51d3",
    "tags": [
     "otter_answer_cell"
    ]
   },
   "outputs": [],
   "source": [
    "# your code here\n",
    "gini_coef = ..."
   ]
  },
  {
   "cell_type": "code",
   "execution_count": null,
   "metadata": {
    "cell_id": "5fe3f404-ec97-4146-ac4d-c44e54db51d3",
    "deletable": false,
    "editable": false
   },
   "outputs": [],
   "source": [
    "# Print resulting Gini coefficient\n",
    "print(f\"The Gini Index for this dataset is {gini_coef:.3f}\")"
   ]
  },
  {
   "cell_type": "code",
   "execution_count": null,
   "metadata": {
    "deletable": false,
    "editable": false
   },
   "outputs": [],
   "source": [
    "grader.check(\"q5.1\")"
   ]
  },
  {
   "cell_type": "markdown",
   "metadata": {
    "deletable": false,
    "editable": false
   },
   "source": [
    "<!-- BEGIN QUESTION -->\n",
    "\n",
    "### Q5.2"
   ]
  },
  {
   "cell_type": "markdown",
   "metadata": {
    "cell_id": "47c47e2e-427f-408c-9384-a92fa779b3aa",
    "deletable": false,
    "editable": false
   },
   "source": [
    "According to the [World Bank estimate](https://www.indexmundi.com/facts/indicators/SI.POV.GINI/rankings) the country with the largest Gini coefficient is South Africa, ranked 1st at $0.63$, while the lowest is the Slovak Republic, ranked 162nd at $0.232$. The United States is ranked 46th on the list and has a Gini index of $0.415$.\n",
    "\n",
    "- How well does your calculated Gini coefficient for this simulated dataset match the world bank estimate?\n",
    "\n",
    "- Might the self-report nature of the data, preprocessing steps, or simulation (i.e., sampling) procedure have affected your results? If so, how?\n",
    "\n",
    "**Note:** The World Bank estimate website uses a [0,100] range for the Gini Index. Above we have converted this to a [0,1] range."
   ]
  },
  {
   "cell_type": "markdown",
   "metadata": {
    "tags": [
     "otter_answer_cell"
    ]
   },
   "source": [
    "_Type your answer here, replacing this text._"
   ]
  },
  {
   "cell_type": "markdown",
   "metadata": {
    "deletable": false,
    "editable": false
   },
   "source": [
    "<!-- END QUESTION -->\n",
    "\n",
    "<!-- BEGIN QUESTION -->\n",
    "\n",
    "<a id=\"part6questions\"></a>\n",
    "\n",
    "## Question 6: Critiquing the simulated data [6 pts]"
   ]
  },
  {
   "cell_type": "markdown",
   "metadata": {
    "cell_id": "47c47e2e-427f-408c-9384-a92fa779b3aa",
    "deletable": false,
    "editable": false
   },
   "source": [
    "Take a look at both the [data dictionary for the original dataset](https://www2.census.gov/programs-surveys/cps/datasets/2024/march/asec2024_ddl_pub_full.pdf) and the notebook used to create the simplified simulation, `data/preprocessing.ipynb`. \n",
    "\n",
    "What might you have done differently were you to write your own preprocessing code?\n",
    "A nonexhaustive list of a few things to consider would be:\n",
    "- Are there important features you think should have been included that were not? \n",
    "- Do you agree with the methods used to reduce the number of unique categorical values?\n",
    "- Might there be a better way to simulate a continuous response from the discrete income brackets in the original data?\n",
    "\n",
    "**Note:** We used the record type 'person' data from the ASEC rather than 'household' or 'family.' All three record types are represented in the data dictionary."
   ]
  },
  {
   "cell_type": "markdown",
   "metadata": {
    "deletable": false,
    "editable": false
   },
   "source": [
    "> **Note**: The rubric below is provided for transparency. Please ensure your responses are genuine and thoughtful, rather than simply attempting to \"fit\" the rubric.\n",
    "---\n",
    "<details>\n",
    "<summary><b>Click to view the Q6 Critique Rubric</b></summary>\n",
    "    \n",
    "### Q6 Critique Rubric:\n",
    "\n",
    "**Total Points: 10**\n",
    "\n",
    "#### 1. Relevance of Comments (4 points):\n",
    "- **4 points**: The critique directly addresses specific sections or steps in the preprocessing notebook, demonstrating a thorough understanding of the content.\n",
    "- **3 points**: The critique references multiple sections of the notebook with some specificity.\n",
    "- **2 points**: The critique generally addresses the notebook but may lack specific references to steps or sections.\n",
    "- **1 point**: The critique provides only a cursory overview without specific details.\n",
    "- **0 points**: The critique does not address the preprocessing notebook.\n",
    "\n",
    "#### 2. Depth of Analysis (4 points):\n",
    "- **4 points**: The student provides deep insights, identifies potential pitfalls, or suggests meaningful improvements for multiple sections of the notebook.\n",
    "- **3 points**: The student provides valuable feedback for one section or multiple but less detailed feedback for several sections.\n",
    "- **2 points**: The analysis is somewhat detailed but may lack depth or actionable feedback.\n",
    "- **1 point**: The feedback is generic or surface-level.\n",
    "- **0 points**: No meaningful analysis provided.\n",
    "\n",
    "#### 3. Clarity and Organization (2 points):\n",
    "- **2 points**: The critique is well-organized, clear, and easy to follow.\n",
    "- **1 point**: The critique is somewhat organized but may have unclear sections.\n",
    "- **0 points**: The critique is disorganized or difficult to understand.\n",
    "\n",
    "---\n",
    "\n",
    "Remember to provide specific examples or suggestions whenever possible. General statements without backing evidence or examples will not be as valuable as those with clear references and reasoning.\n",
    "\n",
    "</details>"
   ]
  },
  {
   "cell_type": "markdown",
   "metadata": {
    "tags": [
     "otter_answer_cell"
    ]
   },
   "source": [
    "_Type your answer here, replacing this text._"
   ]
  },
  {
   "cell_type": "markdown",
   "metadata": {
    "deletable": false,
    "editable": false
   },
   "source": [
    "<!-- END QUESTION -->\n",
    "\n",
    "<a id=\"part3\"></a>\n",
    "    \n",
    "# PART 3 [33 pts]: Predicting percentage change in bacteria populations given their spread factor"
   ]
  },
  {
   "cell_type": "markdown",
   "metadata": {},
   "source": [
    "<a id=\"part3intro\"></a>\n",
    "\n",
    "## Overview\n",
    "\n",
    "For this part, we will explore polynomial regression for modeling a quantitative variable. Specifically, we will model the percent change in a bacteria population after 4 hours as a function of the bacteria's \"spreading factor\".\n",
    "\n",
    "**The data set for this problem has already been split for you.** You will find the train and test data sets in the files `data/bacteria_train.csv` and `data/bacteria_test.csv`, respectively.\n",
    "\n",
    "### Problem Description\n",
    "\n",
    "We will predict the percentage change in population, given the spreading factor. Thus, we will consider the `Spreading_factor` to be our predictor variable and `Perc_population` to be our response variable. Using mean squared error ($MSE$) as an evaluative criteria, we will explore several different approaches for finding the best fit and most robust polynomial regression for modeling this relationship."
   ]
  },
  {
   "cell_type": "markdown",
   "metadata": {},
   "source": [
    "<a id=\"part7questions\"></a>\n",
    "\n",
    "## Question 7: Guesstimate the polynomial relationship [7 pts]"
   ]
  },
  {
   "cell_type": "markdown",
   "metadata": {
    "deletable": false,
    "editable": false
   },
   "source": [
    "<!-- BEGIN QUESTION -->\n",
    "\n",
    "### Q7.1"
   ]
  },
  {
   "cell_type": "markdown",
   "metadata": {
    "deletable": false,
    "editable": false
   },
   "source": [
    "Generate a well-labeled scatter plot of the data points in the bacteria_train.csv file with the spreading factor on the \n",
    "x-axis and the percentage change on the y-axis.\n",
    "\n",
    "Based on your inspection of the plot, guesstimate the degree of the polynomial you believe would best fit the training while still generalizing well. Store this degree in the variable `guessed_deg`. \n",
    "\n",
    "Next, use `PolynomialFeatures()` to generate a design matrices of the guesstimated degree for the train and test data. Store these in `x_poly_train` and `x_poly_test`. \n",
    "\n",
    "**Notes:**\n",
    "- **You don't need to scale your data in this assignment** (you can inspect the data to see why this might not be necessary)\n",
    "- **You should *not* include a bias in the design matrix you intend to pass to the linear regression's `fit` method.**"
   ]
  },
  {
   "cell_type": "code",
   "execution_count": null,
   "metadata": {
    "tags": [
     "otter_answer_cell"
    ]
   },
   "outputs": [],
   "source": [
    "# your code here"
   ]
  },
  {
   "cell_type": "code",
   "execution_count": null,
   "metadata": {
    "deletable": false,
    "editable": false
   },
   "outputs": [],
   "source": [
    "grader.check(\"q7.1\")"
   ]
  },
  {
   "cell_type": "markdown",
   "metadata": {
    "deletable": false,
    "editable": false
   },
   "source": [
    "<!-- BEGIN QUESTION -->\n",
    "\n",
    "### Q7.2"
   ]
  },
  {
   "cell_type": "markdown",
   "metadata": {
    "deletable": false,
    "editable": false
   },
   "source": [
    "Fit a polynomial regression using scikit-learn's `LinearRegression()` on the training design matrix. \n",
    "\n",
    "To track and compare the performance of each of the models in this notebook, use a list of dictionaries called `results`.\n",
    "\n",
    "Each dictionary in this list will have the keys: 'model' (a string representing the question number where the model was fit), 'train_mse', and 'test_mse'.\n",
    "\n",
    "So, for this question, you will append a dictionary to `results` of the form:\n",
    "```python\n",
    "{'model': '7.2', 'train_mse': 2.6749 'test_mse': 2.734}\n",
    "```\n",
    "Note that your MSE scores will not be the same as those in the example dictionary.\n",
    "\n",
    "**Hint:** Because you will be calculating MSEs for models through this notebook, you may want to abstract this process into a function for re-use."
   ]
  },
  {
   "cell_type": "code",
   "execution_count": null,
   "metadata": {
    "tags": [
     "otter_answer_cell"
    ]
   },
   "outputs": [],
   "source": [
    "# Fit a linear regression model\n",
    "# your code here"
   ]
  },
  {
   "cell_type": "code",
   "execution_count": null,
   "metadata": {
    "deletable": false,
    "editable": false
   },
   "outputs": [],
   "source": [
    "# Display your results thus far.\n",
    "pd.DataFrame(results)"
   ]
  },
  {
   "cell_type": "code",
   "execution_count": null,
   "metadata": {
    "deletable": false,
    "editable": false
   },
   "outputs": [],
   "source": [
    "grader.check(\"q7.2\")"
   ]
  },
  {
   "cell_type": "markdown",
   "metadata": {
    "deletable": false,
    "editable": false
   },
   "source": [
    "<!-- BEGIN QUESTION -->\n",
    "\n",
    "<!-- BEGIN QUESTION -->\n",
    "\n",
    "### Q7.3"
   ]
  },
  {
   "cell_type": "markdown",
   "metadata": {
    "deletable": false,
    "editable": false
   },
   "source": [
    "- Create a plot showing both the train and test data, as well as your model's prediction curve.\n",
    "- Display `results` as a DataFrame.\n",
    "- Explain the rationale for your choice of degree (i.e. your \"guesstimation\") and comment on the fit of your model."
   ]
  },
  {
   "cell_type": "markdown",
   "metadata": {
    "tags": [
     "otter_answer_cell"
    ]
   },
   "source": [
    "_Type your answer here, replacing this text._"
   ]
  },
  {
   "cell_type": "code",
   "execution_count": null,
   "metadata": {
    "tags": [
     "otter_answer_cell"
    ]
   },
   "outputs": [],
   "source": [
    "# your code here"
   ]
  },
  {
   "cell_type": "code",
   "execution_count": null,
   "metadata": {
    "tags": [
     "otter_answer_cell"
    ]
   },
   "outputs": [],
   "source": [
    "# your code here"
   ]
  },
  {
   "cell_type": "markdown",
   "metadata": {
    "deletable": false,
    "editable": false
   },
   "source": [
    "<!-- END QUESTION -->\n",
    "\n",
    "<a id=\"part8questions\"></a>\n",
    "\n",
    "## Question 8: Single validation set [12 pts]\n",
    "\n",
    "In this section you'll find the best degree polynomial relationship using a single validation set."
   ]
  },
  {
   "cell_type": "markdown",
   "metadata": {
    "deletable": false,
    "editable": false
   },
   "source": [
    "<!-- BEGIN QUESTION -->\n",
    "\n",
    "### Q8.1"
   ]
  },
  {
   "cell_type": "markdown",
   "metadata": {
    "deletable": false,
    "editable": false
   },
   "source": [
    "Split your original training data such that you separate out 20% into a single validation split. Use `random_state=1` and save the resulting splits as `x_train80`, `x_val`, `y_train80`, `y_val`. (This will prevent the overwriting of the original train data variables)."
   ]
  },
  {
   "cell_type": "code",
   "execution_count": null,
   "metadata": {
    "tags": [
     "otter_answer_cell"
    ]
   },
   "outputs": [],
   "source": [
    "# your code here"
   ]
  },
  {
   "cell_type": "code",
   "execution_count": null,
   "metadata": {
    "deletable": false,
    "editable": false
   },
   "outputs": [],
   "source": [
    "grader.check(\"q8.1\")"
   ]
  },
  {
   "cell_type": "markdown",
   "metadata": {
    "deletable": false,
    "editable": false
   },
   "source": [
    "<!-- BEGIN QUESTION -->\n",
    "\n",
    "### Q8.2"
   ]
  },
  {
   "cell_type": "markdown",
   "metadata": {
    "deletable": false,
    "editable": false
   },
   "source": [
    "- Fit polynomial regression models for **degrees 1 to 30 (inclusive)** on the 80% training set (one model for each degree polynomial regression).\n",
    "- Store the train and validation MSE values for each model in lists called `train_mses` and `val_mses`."
   ]
  },
  {
   "cell_type": "code",
   "execution_count": null,
   "metadata": {
    "tags": [
     "otter_answer_cell"
    ]
   },
   "outputs": [],
   "source": [
    "# your code here"
   ]
  },
  {
   "cell_type": "code",
   "execution_count": null,
   "metadata": {
    "deletable": false,
    "editable": false
   },
   "outputs": [],
   "source": [
    "grader.check(\"q8.2\")"
   ]
  },
  {
   "cell_type": "markdown",
   "metadata": {
    "deletable": false,
    "editable": false
   },
   "source": [
    "<!-- BEGIN QUESTION -->\n",
    "\n",
    "<!-- BEGIN QUESTION -->\n",
    "\n",
    "### Q8.3"
   ]
  },
  {
   "cell_type": "markdown",
   "metadata": {
    "deletable": false,
    "editable": false
   },
   "source": [
    "- Generate a single plot illustrating the train and validation $MSE$ values for each fitted degree polynomial regression model.\n",
    "- Identify and report the degree for which the validation error is lowest.\n",
    "\n",
    "**Note:** Plotting the MSE on a log scale may be helpful."
   ]
  },
  {
   "cell_type": "code",
   "execution_count": null,
   "metadata": {
    "tags": [
     "otter_answer_cell"
    ]
   },
   "outputs": [],
   "source": [
    "# your code here"
   ]
  },
  {
   "cell_type": "code",
   "execution_count": null,
   "metadata": {
    "tags": [
     "otter_answer_cell"
    ]
   },
   "outputs": [],
   "source": [
    "# your code here"
   ]
  },
  {
   "cell_type": "markdown",
   "metadata": {
    "deletable": false,
    "editable": false
   },
   "source": [
    "<!-- END QUESTION -->\n",
    "\n",
    "<!-- BEGIN QUESTION -->\n",
    "\n",
    "### Q8.4"
   ]
  },
  {
   "cell_type": "markdown",
   "metadata": {
    "deletable": false,
    "editable": false
   },
   "source": [
    "Now, with the best degree selected, train the polynomial regression on the **complete training set** (including the observations that you had previously removed to make the validation set). \n",
    "\n",
    "Append a new dictionary to your `results` list for this model."
   ]
  },
  {
   "cell_type": "code",
   "execution_count": null,
   "metadata": {
    "tags": [
     "otter_answer_cell"
    ]
   },
   "outputs": [],
   "source": [
    "# your code here"
   ]
  },
  {
   "cell_type": "code",
   "execution_count": null,
   "metadata": {
    "deletable": false,
    "editable": false
   },
   "outputs": [],
   "source": [
    "# Display your results thus far.\n",
    "pd.DataFrame(results)"
   ]
  },
  {
   "cell_type": "code",
   "execution_count": null,
   "metadata": {
    "deletable": false,
    "editable": false
   },
   "outputs": [],
   "source": [
    "grader.check(\"q8.4\")"
   ]
  },
  {
   "cell_type": "markdown",
   "metadata": {
    "deletable": false,
    "editable": false
   },
   "source": [
    "<!-- BEGIN QUESTION -->\n",
    "\n",
    "### Q8.5"
   ]
  },
  {
   "cell_type": "markdown",
   "metadata": {
    "deletable": false,
    "editable": false
   },
   "source": [
    "Generate a plot of the data and your regression curve (similar to [Question 7.3](#part7questions)). Comment on how your model fits the data and compare it to the fit of your \"guesstimated\" model from Question 7."
   ]
  },
  {
   "cell_type": "code",
   "execution_count": null,
   "metadata": {
    "tags": [
     "otter_answer_cell"
    ]
   },
   "outputs": [],
   "source": [
    "# your code here"
   ]
  },
  {
   "cell_type": "markdown",
   "metadata": {},
   "source": [
    "<a id=\"part9questions\"></a>\n",
    "\n",
    "## Question 9: Finding the best model by k-fold cross validation [14 pts]"
   ]
  },
  {
   "cell_type": "markdown",
   "metadata": {
    "deletable": false,
    "editable": false
   },
   "source": [
    "<!-- BEGIN QUESTION -->\n",
    "\n",
    "### Q9.1"
   ]
  },
  {
   "cell_type": "markdown",
   "metadata": {
    "deletable": false,
    "editable": false
   },
   "source": [
    "In this part we find the best degree polynomial regression by running the model on a range of degree values and using k-fold cross validation. Note that `cross_validation` should be passed *all* training examples (*not* the 80% split from the previous question).\n",
    "\n",
    "- Use scikit-learn's `cross_validate(...)` to perform cross validation with $k=10$ for each polynomial regression from **degree 1 to 30 (inclusive)**.\n",
    "- For each degree:\n",
    "    - store the mean train MSE across all $k$ folds in the list `train_mses_mean`\n",
    "    - store the mean validation MSE across all $k$ folds in the list `val_mses_mean`\n",
    "    - store the standard deviation  of the validation MSE across all $k$ folds in the list `val_mses_std`"
   ]
  },
  {
   "cell_type": "code",
   "execution_count": null,
   "metadata": {
    "tags": [
     "otter_answer_cell"
    ]
   },
   "outputs": [],
   "source": [
    "# your code here"
   ]
  },
  {
   "cell_type": "code",
   "execution_count": null,
   "metadata": {
    "deletable": false,
    "editable": false
   },
   "outputs": [],
   "source": [
    "grader.check(\"q9.1\")"
   ]
  },
  {
   "cell_type": "markdown",
   "metadata": {
    "deletable": false,
    "editable": false
   },
   "source": [
    "<!-- BEGIN QUESTION -->\n",
    "\n",
    "<!-- BEGIN QUESTION -->\n",
    "\n",
    "### Q9.2"
   ]
  },
  {
   "cell_type": "markdown",
   "metadata": {
    "deletable": false,
    "editable": false
   },
   "source": [
    "- Generate a single plot showing the mean train and validation $MSE$ values (see note below) for each degree polynomial regression, including the +/- 1 standard deviation bounds for the validation $MSE$ values.\n",
    "- Comment on trends and findings illustrated by your plot.\n",
    "- Print the degree of the best model, identified based on the lowest mean validation $MSE$, along with the corresponding mean train and validation $MSE$ values.\n",
    "\n",
    "**NOTE:** When we refer to train and validation $MSE$ values here in Question 9.2 and in future problems where we are performing cross validation, we are referring specifically to the cross-validation generated train and validation $MSE$ values. Just please remember, when accessing your validation $MSE$ values while performing cross validation with scikit-learn's `cross_validate(...)`, scikit-learn rather confusingly refers to its validation scores as `test_score` in the dictionary that it returns, even though those values are actually validation scores. Please see the `cross_validate(...)` [documentation](https://scikit-learn.org/stable/modules/generated/sklearn.model_selection.cross_validate.html) for more info on this function."
   ]
  },
  {
   "cell_type": "markdown",
   "metadata": {
    "tags": [
     "otter_answer_cell"
    ]
   },
   "source": [
    "_Type your answer here, replacing this text._"
   ]
  },
  {
   "cell_type": "code",
   "execution_count": null,
   "metadata": {
    "tags": [
     "otter_answer_cell"
    ]
   },
   "outputs": [],
   "source": [
    "# your code here"
   ]
  },
  {
   "cell_type": "markdown",
   "metadata": {
    "deletable": false,
    "editable": false
   },
   "source": [
    "<!-- END QUESTION -->\n",
    "\n",
    "<!-- BEGIN QUESTION -->\n",
    "\n",
    "### Q9.3"
   ]
  },
  {
   "cell_type": "markdown",
   "metadata": {
    "deletable": false,
    "editable": false
   },
   "source": [
    "Fit the best model based on the entire training data and report the $MSE$.\n",
    "\n",
    "\n",
    "- For the best degree polynomial regression identified in Question 9.2 above, train on the complete training data and predict on the test data.\n",
    "- Append a new dictionary for this model to the `results` list."
   ]
  },
  {
   "cell_type": "code",
   "execution_count": null,
   "metadata": {
    "tags": [
     "otter_answer_cell"
    ]
   },
   "outputs": [],
   "source": [
    "# your code here"
   ]
  },
  {
   "cell_type": "code",
   "execution_count": null,
   "metadata": {
    "deletable": false,
    "editable": false
   },
   "outputs": [],
   "source": [
    "grader.check(\"q9.3\")"
   ]
  },
  {
   "cell_type": "markdown",
   "metadata": {
    "deletable": false,
    "editable": false
   },
   "source": [
    "<!-- BEGIN QUESTION -->\n",
    "\n",
    "<!-- BEGIN QUESTION -->\n",
    "\n",
    "### Q9.4"
   ]
  },
  {
   "cell_type": "markdown",
   "metadata": {
    "deletable": false,
    "editable": false
   },
   "source": [
    "- Generate a plot of the data and your regression curve (similar to [Question 7.3](#part7questions)).\n",
    "- Display the coefficients of your model.\n",
    "- Display `results` as a DataFrame (there should now be 3 entries).\n",
    "- Comment on how your model fits the data and how your model compares relative to the prior best-fit model you generated using just a single validation set in [Question 8](#part8questions)."
   ]
  },
  {
   "cell_type": "markdown",
   "metadata": {
    "tags": [
     "otter_answer_cell"
    ]
   },
   "source": [
    "_Type your answer here, replacing this text._"
   ]
  },
  {
   "cell_type": "code",
   "execution_count": null,
   "metadata": {
    "tags": [
     "otter_answer_cell"
    ]
   },
   "outputs": [],
   "source": [
    "# your code here"
   ]
  },
  {
   "cell_type": "markdown",
   "metadata": {
    "deletable": false,
    "editable": false
   },
   "source": [
    "<!-- END QUESTION -->\n",
    "\n",
    "<div class=\"alert alert-info\" style=\"color: #4a4a4a; background-color: #fbe8ff; border-color: #eed4db; border-width: 1px; border-radius: 3px; padding: 10px;\">\n",
    "\n",
    "## Wrap-up\n",
    "\n",
    "* Please describe the aspect(s) of the assignment you found most challenging. This could be conceptual and/or related to coding and implementation. This is also a good place to ask any remaining questions you may have.\n",
    "\n",
    "* How many hours did you spend working on this assignment? Store this as an int or float in `hours_spent_on_hw`. If you worked on the project in a group, report the *average* time spent per person.\n",
    "\n",
    "</div>"
   ]
  },
  {
   "cell_type": "code",
   "execution_count": null,
   "metadata": {
    "tags": [
     "otter_answer_cell"
    ]
   },
   "outputs": [],
   "source": [
    "hours_spent_on_hw = ..."
   ]
  },
  {
   "cell_type": "code",
   "execution_count": null,
   "metadata": {
    "deletable": false,
    "editable": false
   },
   "outputs": [],
   "source": [
    "grader.check(\"wrapup\")"
   ]
  },
  {
   "cell_type": "code",
   "execution_count": null,
   "metadata": {},
   "outputs": [],
   "source": [
    "notebook_end = time.time()\n",
    "print(f\"It took {(notebook_end - notebook_start)/60:.2f} minutes for this notebook to run\")"
   ]
  },
  {
   "cell_type": "markdown",
   "metadata": {},
   "source": [
    "🌈 **This concludes HW2. Thank you!**"
   ]
  }
 ],
 "metadata": {
  "colab": {
   "collapsed_sections": [],
   "name": "hw1-part1.ipynb",
   "provenance": []
  },
  "deepnote_execution_queue": [],
  "deepnote_notebook_id": "5e5027d5-1cf7-4394-a1d5-c57eaedde1db",
  "jupytext": {
   "default_lexer": "ipython3",
   "formats": "ipynb,md:myst"
  },
  "kernelspec": {
   "display_name": "cs1090a_hw2 (3.13.7)",
   "language": "python",
   "name": "python3"
  },
  "language_info": {
   "codemirror_mode": {
    "name": "ipython",
    "version": 3
   },
   "file_extension": ".py",
   "mimetype": "text/x-python",
   "name": "python",
   "nbconvert_exporter": "python",
   "pygments_lexer": "ipython3",
   "version": "3.13.7"
  },
  "otter": {
   "OK_FORMAT": true,
   "tests": {
    "q2.1": {
     "name": "q2.1",
     "points": 2,
     "suites": [
      {
       "cases": [
        {
         "code": ">>> assert [len(X_train), len(X_val), len(X_test), len(y_train), len(y_val), len(y_test)] == [360, 120, 121, 360, 120, 121], 'Did not split dataset into 60% training, 20% validation, and 20% testing.'\n",
         "hidden": false,
         "locked": false
        }
       ],
       "scored": true,
       "setup": "",
       "teardown": "",
       "type": "doctest"
      }
     ]
    },
    "q2.2.3": {
     "name": "q2.2.3",
     "points": 2,
     "suites": [
      {
       "cases": [
        {
         "code": ">>> assert best_k > 0 and best_k < 101, 'value of k for model found with best validation MSE is not close to the correct value'\n>>> assert best_mse > 0 and best_mse < 5, 'value of best validation MSE is not close to the correct value'\n",
         "hidden": false,
         "locked": false
        }
       ],
       "scored": true,
       "setup": "",
       "teardown": "",
       "type": "doctest"
      }
     ]
    },
    "q2.2.4": {
     "name": "q2.2.4",
     "points": 2,
     "suites": [
      {
       "cases": [
        {
         "code": ">>> assert best_r2 >= 0 and best_r2 <= 1, f'R^2 should be between 0 and 1 for reasonable models but yours is {best_r2}'\n",
         "hidden": false,
         "locked": false
        }
       ],
       "scored": true,
       "setup": "",
       "teardown": "",
       "type": "doctest"
      }
     ]
    },
    "q3.1.1": {
     "name": "q3.1.1",
     "points": 3,
     "suites": [
      {
       "cases": [
        {
         "code": ">>> assert type(linreg) == type(LinearRegression()), 'linreg is not a sklearn linear regression model.'\n",
         "hidden": false,
         "locked": false
        }
       ],
       "scored": true,
       "setup": "",
       "teardown": "",
       "type": "doctest"
      }
     ]
    },
    "q3.1.2": {
     "name": "q3.1.2",
     "points": 2,
     "suites": [
      {
       "cases": [
        {
         "code": ">>> assert slope > 0 and slope < 1, 'slope is not near the correct value.'\n>>> assert intercept > 0 and slope < 1, 'intercept is not near the correct value.'\n",
         "hidden": false,
         "locked": false
        }
       ],
       "scored": true,
       "setup": "",
       "teardown": "",
       "type": "doctest"
      }
     ]
    },
    "q3.1.3": {
     "name": "q3.1.3",
     "points": 2,
     "suites": [
      {
       "cases": [
        {
         "code": ">>> assert lin_train_mse > 0 and lin_train_mse < 10, 'lin_train_mse is near the correct value.'\n>>> assert lin_test_mse > 0 and lin_test_mse < 10, 'lin_test_mse is near the correct value.'\n>>> assert lin_test_r2 > 0 and lin_test_r2 < 1, 'lin_test_r2 is near the correct value.'\n",
         "hidden": false,
         "locked": false
        }
       ],
       "scored": true,
       "setup": "",
       "teardown": "",
       "type": "doctest"
      }
     ]
    },
    "q5.1": {
     "name": "q5.1",
     "points": 5,
     "suites": [
      {
       "cases": [
        {
         "code": ">>> assert gini_coef >= 0 and gini_coef <= 1, f'Your gini_coef value should be in the range [0,1] but you have {gini_coef}'\n",
         "hidden": false,
         "locked": false
        }
       ],
       "scored": true,
       "setup": "",
       "teardown": "",
       "type": "doctest"
      }
     ]
    },
    "q7.1": {
     "name": "q7.1",
     "points": 2,
     "suites": [
      {
       "cases": [
        {
         "code": ">>> assert type(guessed_deg) == int, 'guessed_deg should be an integer'\n>>> assert type(x_poly_train) == np.ndarray, 'x_poly_train should be a numpy array'\n>>> assert type(x_poly_test) == np.ndarray, 'x_poly_test should be a numpy array'\n>>> assert x_poly_train.shape[1] == guessed_deg, 'Your train design matrix should have the same number of columns as guessed_deg'\n>>> assert x_poly_test.shape[1] == guessed_deg, 'Your test design matrix should have the same number of columns as guessed_deg'\n",
         "hidden": false,
         "locked": false
        }
       ],
       "scored": true,
       "setup": "",
       "teardown": "",
       "type": "doctest"
      }
     ]
    },
    "q7.2": {
     "name": "q7.2",
     "points": 2,
     "suites": [
      {
       "cases": [
        {
         "code": ">>> assert type(results) == list, 'results should be a list of dictionaries'\n>>> assert all([type(x) == dict for x in results]), 'results should be a list of dictionaries'\n>>> assert all([k in ['model', 'train_mse', 'test_mse'] for k in results[0].keys()]), \"The dictionary in your results list should have the keys: 'model', 'train_mse', 'test_mse'.\"\n>>> assert isinstance(results[0]['train_mse'], float), \"'train_mse' should be a float\"\n>>> assert isinstance(results[0]['test_mse'], float), \"'test_mse' should be a float\"\n>>> assert results[0]['model'] == '7.2', \"'The model name in your first result dictionary should be '2.2' (a string)\"\n",
         "hidden": false,
         "locked": false
        }
       ],
       "scored": true,
       "setup": "",
       "teardown": "",
       "type": "doctest"
      }
     ]
    },
    "q8.1": {
     "name": "q8.1",
     "points": 1,
     "suites": [
      {
       "cases": [
        {
         "code": ">>> assert x_train80.shape == (338, 1), 'Your new x_train80 should be 80% the size of the original x_train and should be 2-dimensional.' + ' (reshape might help)'\n>>> assert y_train80.size == 338, 'Your new y_train80 should be 80% the size of the original y_train.'\n>>> assert x_val.shape == (85, 1), 'x_val should be 20% the size of the original x_train and should be 2-dimensional.' + ' (reshape might help)'\n>>> assert y_val.size == 85, 'Your new y_val should be 20% the size of the original training set.'\n",
         "hidden": false,
         "locked": false
        }
       ],
       "scored": true,
       "setup": "",
       "teardown": "",
       "type": "doctest"
      }
     ]
    },
    "q8.2": {
     "name": "q8.2",
     "points": 2,
     "suites": [
      {
       "cases": [
        {
         "code": ">>> assert type(train_mses) == list and len(train_mses) == 30, '`train_mses` should be a list with 30 elements'\n>>> assert type(val_mses) == list and len(val_mses) == 30, '`val_mses` should be a list with 30 elements'\n>>> assert all([isinstance(x, float) for x in train_mses]), 'All train MSE values should be floats.'\n>>> assert all([isinstance(x, float) for x in val_mses]), 'All validation MSE values should be floats.'\n",
         "hidden": false,
         "locked": false
        }
       ],
       "scored": true,
       "setup": "",
       "teardown": "",
       "type": "doctest"
      }
     ]
    },
    "q8.4": {
     "name": "q8.4",
     "points": 3,
     "suites": [
      {
       "cases": [
        {
         "code": ">>> assert all([k in ['model', 'train_mse', 'test_mse'] for k in results[1].keys()]), \"The 2nd dictionary in your results list should have the keys: 'model', 'train_mse', 'test_mse'.\"\n>>> assert isinstance(results[1]['train_mse'], float), \"'train_mse' should be a float\"\n>>> assert isinstance(results[1]['test_mse'], float), \"'test_mse' should be a float\"\n>>> assert results[1]['model'] == '8.4', \"'The model name in your 2nd result dictionary should be '3.4' (a string)\"\n",
         "hidden": false,
         "locked": false
        }
       ],
       "scored": true,
       "setup": "",
       "teardown": "",
       "type": "doctest"
      }
     ]
    },
    "q9.1": {
     "name": "q9.1",
     "points": 4,
     "suites": [
      {
       "cases": [
        {
         "code": ">>> assert type(train_mses_mean) == list and len(train_mses_mean) == 30, 'train_mses_mean should be a list with 30 elements (one for each degree fit)'\n>>> assert all([isinstance(x, float) for x in train_mses_mean]), 'All elements of train_mses_mean should be floats.'\n>>> assert type(val_mses_mean) == list and len(val_mses_mean) == 30, 'val_mses_mean should be a list with 30 elements (one for each degree fit)'\n>>> assert all([isinstance(x, float) for x in val_mses_mean]), 'All elements of val_mses_mean should be floats.'\n>>> assert type(val_mses_std) == list and len(val_mses_std) == 30, 'val_mses_std should be a list with 30 elements (one for each degree fit)'\n>>> assert all([isinstance(x, float) for x in val_mses_std]), 'All elements of val_mses_std should be floats.'\n",
         "hidden": false,
         "locked": false
        }
       ],
       "scored": true,
       "setup": "",
       "teardown": "",
       "type": "doctest"
      }
     ]
    },
    "q9.3": {
     "name": "q9.3",
     "points": 4,
     "suites": [
      {
       "cases": [
        {
         "code": ">>> assert all([k in ['model', 'train_mse', 'test_mse'] for k in results[2].keys()]), \"The 3rd dictionary in your results list should have the keys: 'model', 'train_mse', 'test_mse'.\"\n>>> assert isinstance(results[2]['train_mse'], float), \"'train_mse' should be a float\"\n>>> assert isinstance(results[2]['test_mse'], float), \"'test_mse' should be a float\"\n>>> assert results[2]['model'] == '9.3', \"'The model name in your 3rd result dictionary should be '4.3' (a string)\"\n",
         "hidden": false,
         "locked": false
        }
       ],
       "scored": true,
       "setup": "",
       "teardown": "",
       "type": "doctest"
      }
     ]
    },
    "wrapup": {
     "name": "wrapup",
     "points": 0,
     "suites": [
      {
       "cases": [
        {
         "code": ">>> assert float(hours_spent_on_hw), 'Please select a time in hours (int or float) to specify how long you spent on this assignment.'\n",
         "hidden": false,
         "locked": false
        }
       ],
       "scored": true,
       "setup": "",
       "teardown": "",
       "type": "doctest"
      }
     ]
    }
   }
  }
 },
 "nbformat": 4,
 "nbformat_minor": 4
}
